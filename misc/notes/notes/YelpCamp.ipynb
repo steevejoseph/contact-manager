{
 "cells": [
  {
   "cell_type": "markdown",
   "metadata": {},
   "source": [
    "# YelpCamp\n",
    "\n",
    "* add landing page\n",
    "* add campgrounds\n",
    "\n",
    "Each campground has:\n",
    " * Name\n",
    " * Image"
   ]
  }
 ],
 "metadata": {
  "kernelspec": {
   "display_name": "Javascript (Node.js)",
   "language": "javascript",
   "name": "javascript"
  },
  "language_info": {
   "file_extension": ".js",
   "mimetype": "application/javascript",
   "name": "javascript",
   "version": "8.11.1"
  }
 },
 "nbformat": 4,
 "nbformat_minor": 2
}
