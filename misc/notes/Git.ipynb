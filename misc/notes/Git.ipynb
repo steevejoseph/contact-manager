{
 "cells": [
  {
   "cell_type": "markdown",
   "metadata": {},
   "source": [
    "# Basic Commands\n",
    "\n",
    "* `git init`\n",
    "* `git pull`\n",
    "* `git add <list of files, folders to add>`\n",
    "* `git commit -m \"meaningful commit message.\"`\n",
    "* `git push <alias> <branch name>` \n",
    "* `git status`\n",
    "* `git log`\n",
    "* `git revert --no-commit hashNUMBER..HEAD`\n",
    "\n"
   ]
  }
 ],
 "metadata": {
  "kernelspec": {
   "display_name": "Javascript (Node.js)",
   "language": "javascript",
   "name": "javascript"
  },
  "language_info": {
   "file_extension": ".js",
   "mimetype": "application/javascript",
   "name": "javascript",
   "version": "8.11.1"
  }
 },
 "nbformat": 4,
 "nbformat_minor": 2
}
