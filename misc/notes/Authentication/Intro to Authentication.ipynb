{
 "cells": [
  {
   "cell_type": "markdown",
   "metadata": {},
   "source": [
    "# Intro to (User) Auth\n",
    "\n",
    "## Tools\n",
    "* PassportJS\n",
    "  * Hella \"strategies\"/\"schemes\" (types of authentication)\n",
    "  * Provides entry point into all sorts of destinations.\n",
    "  * Provides simple user auth through {Local (email+password, Google, FB, etc}\n",
    "      * \"user auth through\" === \"sign in with\"\n",
    "\n",
    "* Passport Local\n",
    "  * One strategy for user auth (using email and password)\n",
    "  * Passport Local Mongoose\n",
    "  * Passport Local, made specfically for Mongoose.\n",
    "  * Speeds up/simplifies dev time.\n",
    "  \n",
    "* Express-sesions\n",
    "  * Library to help with Sessions\n",
    "\n",
    "## Sessions \n",
    "\n",
    "### Why Sessions?\n",
    "  * HTTP is supposed to be \"stateless\" protocal\n",
    "    * Sending requests that are one-time, don't contain info about history\n",
    "    * Not linked together\n",
    "    * Doesn't have a state.\n",
    "      \n",
    "* However, this is counterproductive to our goals, specifically:\n",
    "    * stealing user da--- I mean, preserving user data\n",
    "    * Letting server know that user is still logged in\n",
    "    * Provide user authentication\n",
    "    \n",
    "  * How can we add states to HTTP so we can implement user auth?\n",
    "  \n",
    "**Our Answer? Sessions.** [And then the whole server clapped.](http://knowyourmeme.com/memes/and-then-the-whole-bus-clapped) \n",
    "  * Express Session\n",
    "\n",
    "## Authentication Flow\n",
    "1. Request made to server by client (user).\n",
    "2. Some information about user (that made the request) is saved in the request.\n",
    "3. Information is encoded, and request is sent.\n",
    "4. Server receives request.\n",
    "5. Passport decodes request and reads request to see if user is logged in."
   ]
  }
 ],
 "metadata": {
  "kernelspec": {
   "display_name": "Javascript (Node.js)",
   "language": "javascript",
   "name": "javascript"
  },
  "language_info": {
   "file_extension": ".js",
   "mimetype": "application/javascript",
   "name": "javascript",
   "version": "8.11.1"
  }
 },
 "nbformat": 4,
 "nbformat_minor": 2
}
