{
 "cells": [
  {
   "cell_type": "markdown",
   "metadata": {},
   "source": [
    "# Associations\n",
    "\n",
    "## Intro to Associations\n",
    "* \"Association\" refers to having associated/related data.\n",
    "* There are 3 main types of data relationships:\n",
    "   * one:one\n",
    "   * one:many\n",
    "   * many:many.\n",
    "\n",
    "**We're gonna use [entity](https://en.oxforddictionaries.com/definition/entity)/model synonymously.**\n",
    "\n",
    ">For clarity's sake, a entity is an existing thing. A model is usually rendered from the schema, before \n",
    "being used to create an instance of a thing.\n",
    "\n",
    "### Consider Facebook's main entities:\n",
    "* User\n",
    "* Post\n",
    "* Photos\n",
    "* Albums\n",
    "* Comments\n",
    "* Tags\n",
    "* Likes\n",
    "\n",
    "## One:One Relationships\n",
    "* One of an entity is related to one of another entity.\n",
    "* **example**: One book has one publisher, or one book can have one title.\n",
    "* **example**: One User has one User ID, One post has one title.\n",
    "\n",
    "## One:Many Relationships\n",
    "* One of an entity is related to many of another entity.\n",
    "* Probably the most common relationship seen.\n",
    "* **example**: One book may have many authors.\n",
    "* **example**: One album may have many photos, one user may (should?) have many friends.\n",
    "\n",
    "## Many:Many Relationships\n",
    "* Not as common, a little confusing to envision\n",
    "* **example**: Many books may have many authors.\n",
    "* **example**: Many users can have many friends in common.\n"
   ]
  },
  {
   "cell_type": "markdown",
   "metadata": {},
   "source": [
    "# Writing Associations\n",
    "* Connecting models\n",
    "\n",
    "* Two methods:\n",
    "    * Embedding data\n",
    "    * Referencing data\n",
    "    \n",
    "### Embedded vs Referenced: Which one to use?\n",
    "\n",
    "**[Steve Francia's](https://stevefrancia.com) answer on [Quora](https://www.quora.com/In-Mongodb-when-should-we-use-embedding-and-when-should-we-use-referencing):**\n",
    "  * Steve is pretty **GOTDANG** important at Google (he works there), had big role in making MongoDB.\n",
    "\n",
    "> **Referencing should be used more sparingly** as there are limitations to referenced documents and references are less efficient. \n",
    "\n",
    "> For instance you can't query an object based on values in a referenced object (like a sql join can), but you can do this if the document is embedded.\n",
    "\n",
    "> A good rule of thumb is **if a given document needs to be accessed from a number of different places then it _may_ make make sense to make it a reference rather than embedded**.\n"
   ]
  },
  {
   "cell_type": "markdown",
   "metadata": {},
   "source": [
    "# Embedding Associations\n",
    "\n",
    "## Embedding One:Many Associations\n",
    "### Consider the following entities from Facebook:\n",
    "* User\n",
    "* Post\n",
    "\n",
    "# @STEEVE: UPDATE WITH THE EMBEDDING VIDEO EXPLANATIONS\n",
    "\n",
    "## IN \"WDB/files/Backend/Associations/\"\n"
   ]
  },
  {
   "cell_type": "markdown",
   "metadata": {},
   "source": [
    "# Referencing Associations\n",
    "\n",
    "## Embedding One:Many Associations\n",
    "\n",
    "### Consider the following entities from Facebook\n",
    "* Uer\n",
    "* Post\n",
    "\n",
    "# @STEEVE: UPDATE WITH THE REFERENCING VIDEO EXPLANATIONS\n",
    "## IN \"WDB/files/Backend/Associations/\"\n",
    "\n",
    "# ALSO NOTE THAT THE MODULE EXPORTS ARE FOR THE REFERENCES, not THE EMBEDDEDS."
   ]
  },
  {
   "cell_type": "markdown",
   "metadata": {},
   "source": [
    "# Module Exports\n",
    "## DON'T have all models in the main app.js file\n",
    "* It becomes overwhelming very quickly!\n",
    "\n",
    "### Instead, do this:\n",
    "* create a folder named \"models\" in your Project Directory.\n",
    "* for each model:\n",
    "    * create a file named \"modelName.js\"\n",
    "    * cut and paste the Schema declaration and the model declaration into the modelName.js file.\n",
    "    * `require(\"./models/modelName.js\")` from your main app.js file.\n",
    "\n",
    "### On the last line of each modelName.js, include this line:\n",
    "**DON'T FORGET**\n",
    "\n",
    "`module.exports = mongoose.model(\"Entity\", entitySchema);`\n",
    "* This is somewhat like a return value, just for a file.\n",
    "* Including the file returns the model for an Entity.\n",
    "* This allows you to modularize your code TREMENDOUSLY."
   ]
  }
 ],
 "metadata": {
  "kernelspec": {
   "display_name": "Javascript (Node.js)",
   "language": "javascript",
   "name": "javascript"
  },
  "language_info": {
   "file_extension": ".js",
   "mimetype": "application/javascript",
   "name": "javascript",
   "version": "8.11.1"
  }
 },
 "nbformat": 4,
 "nbformat_minor": 2
}
