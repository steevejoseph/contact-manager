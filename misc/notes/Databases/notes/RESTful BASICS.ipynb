{
 "cells": [
  {
   "cell_type": "markdown",
   "metadata": {},
   "source": [
    "# REST: REpresentational State Transfer\n",
    "  * Pattern for defining routes.\n",
    "  * Way/convention/architecture of mapping HTTP routes and [CRUD](https://www.techopedia.com/definition/25949/create-retrieve-update-and-delete-crud)."
   ]
  },
  {
   "cell_type": "markdown",
   "metadata": {},
   "source": [
    "![Table of the 7 RESTful Routes](RESTful_routes.PNG)\n",
    "\n",
    "\n",
    "**(Reprinted,  in case the pic doesn't render)**\n",
    "\n",
    "Name   | URL            |HTTP verb  |description\n",
    "-------| -----------------|---------------| --------------\n",
    "INDEX  |  /dogs          |    GET        |    Display list of all dogs. |\n",
    "NEW    |  /dogs/new      |    GET        |    Displays form to make a new dog. |\n",
    "CREATE |  /dogs          |    POST       |    Add new dog to DB. |\n",
    "SHOW   |  /dogs/:id      |    GET        |    Shows info about one dog. |\n",
    "EDIT   |  /dogs/:id/edit |   GET         |    Show edit form for one dog. |\n",
    "UPDATE |  /dogs/:id/     |   PUT         |    Update a particular dog, then redirect somewhere. |\n",
    "DESTROY| /dogs/:id/      |   DELETE      |    Delete a particular dog, then redirect somewhere |\n"
   ]
  },
  {
   "cell_type": "markdown",
   "metadata": {},
   "source": [
    "## @Steeve: UPDATE  this nobetook with explanation/examples from: \n",
    "\n",
    "* \"*WDB/files/Backend/restful-routing/blog-app*\" **(The RESTful Blogging App)**"
   ]
  }
 ],
 "metadata": {
  "kernelspec": {
   "display_name": "Javascript (Node.js)",
   "language": "javascript",
   "name": "javascript"
  },
  "language_info": {
   "file_extension": ".js",
   "mimetype": "application/javascript",
   "name": "javascript",
   "version": "8.11.1"
  }
 },
 "nbformat": 4,
 "nbformat_minor": 2
}
