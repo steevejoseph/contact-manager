{
 "cells": [
  {
   "cell_type": "markdown",
   "metadata": {},
   "source": [
    "\n",
    "\n",
    "## 20%:\n",
    "* Sometimes there'll be entities that depend on other entities. \n",
    "\n",
    "> For example, in Facebook, there are comment models, but each comment is associated with a Post. Therefore, when making routes for comments (and other similar examples that depend on another entity), these routes must be nested within the routes of the containing entity.\n",
    "\n",
    "Consider the routes for our Post example:\n",
    "\n",
    "Name   | URL              |HTTP verb  |description\n",
    "-------| -----------------|---------------| --------------\n",
    "INDEX  |  /Posts          |    GET        |    Display list of all Posts. |\n",
    "NEW    |  /Posts/new      |    GET        |    Displays form to make a new Post. |\n",
    "CREATE |  /Posts          |    POST       |    Add new Post to DB. |\n",
    "SHOW   |  /Posts/:id      |    GET        |    Shows info about one Post. |\n",
    "EDIT   |  /Posts/:id/edit |   GET         |    Show edit form for one Post. |\n",
    "UPDATE |  /Posts/:id/     |   PUT         |    Update a particular Post, then redirect somewhere. |\n",
    "DESTROY| /Posts/:id/      |   DELETE      |    Delete a particular Post, then redirect somewhere |\n",
    "\n",
    "\n",
    "Given the above info, our Comment routes would look like:\n",
    "\n",
    "\n",
    "Name   | URL              |HTTP verb  |description\n",
    "-------| -----------------|---------------| --------------\n",
    "INDEX  |  /Posts/:id/comments          |    GET        |    Display list of all  of a Post's comments. |\n",
    "NEW    |  /Posts/:id/comments/new      |    GET        |    Displays form to make a new comment on a Post. |\n",
    "CREATE |  /Posts/:id/comments          |    POST       |    Add new Comment to DB (assoc. w/ the Post). |\n",
    "SHOW   |  /Posts/:id/comments/:id                   |    GET        |    Shows info about one comment on a Post. |\n",
    "EDIT   |  /Posts/:id/comments/:id/edit |   GET         |    Show edit form for a comment on a Post. |\n",
    "UPDATE |  /Posts/:id/comments:/id      |   PUT         |    Update a particular comment on a Post, then redirect somewhere. |\n",
    "DESTROY| /Posts/:id/comments/:id       |   DELETE      |    Delete a particular comment on a Post, then redirect somewhere |\n"
   ]
  }
 ],
 "metadata": {
  "kernelspec": {
   "display_name": "Javascript (Node.js)",
   "language": "javascript",
   "name": "javascript"
  },
  "language_info": {
   "file_extension": ".js",
   "mimetype": "application/javascript",
   "name": "javascript",
   "version": "8.11.1"
  }
 },
 "nbformat": 4,
 "nbformat_minor": 2
}
